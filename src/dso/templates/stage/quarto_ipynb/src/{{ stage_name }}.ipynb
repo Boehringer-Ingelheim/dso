{
 "cells": [
  {
   "cell_type": "code",
   "execution_count": null,
   "metadata": {},
   "outputs": [],
   "source": [
    "# | label: load_libraries\n",
    "\n",
    "import pandas as pd\n",
    "\n",
    "from dso import read_params, stage_here"
   ]
  },
  {
   "cell_type": "markdown",
   "metadata": {},
   "source": [
    "Load the stage-specific 'params.yaml' config using the `read_params(..)` function. This function specifically loads\n",
    "only the stage-dependent parameters that are defined in the 'params' section of the 'dvc.yaml' file."
   ]
  },
  {
   "cell_type": "code",
   "execution_count": null,
   "metadata": {},
   "outputs": [],
   "source": [
    "# | label: read_params\n",
    "\n",
    "params = read_params(\"{{ stage_path }}\")"
   ]
  },
  {
   "cell_type": "markdown",
   "metadata": {},
   "source": [
    "To locate your files relative to the stage path use `stage_here(..)`."
   ]
  },
  {
   "cell_type": "code",
   "execution_count": null,
   "metadata": {},
   "outputs": [],
   "source": [
    "# | label: obtain_files_relative_to_stage_dir\n",
    "\n",
    "# e.g.\n",
    "samplesheet = pd.read_csv(stage_here(params[\"samplesheet\"]))"
   ]
  }
 ],
 "metadata": {
  "kernelspec": {
   "display_name": "Python 3",
   "language": "python",
   "name": "python3"
  }
 },
 "nbformat": 4,
 "nbformat_minor": 4
}
